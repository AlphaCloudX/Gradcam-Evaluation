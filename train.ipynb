{
 "cells": [
  {
   "metadata": {},
   "cell_type": "markdown",
   "source": "## Imports",
   "id": "8a9989e4ffc55416"
  },
  {
   "metadata": {
    "ExecuteTime": {
     "end_time": "2024-08-22T06:09:14.665794Z",
     "start_time": "2024-08-22T06:09:11.125990Z"
    }
   },
   "cell_type": "code",
   "source": [
    "import h5py\n",
    "import numpy as np\n",
    "from tensorflow.keras.layers import Conv2D, MaxPooling2D, Flatten, Dense, Dropout\n",
    "from tensorflow.keras.preprocessing.image import ImageDataGenerator\n",
    "from tensorflow.keras.callbacks import ModelCheckpoint, EarlyStopping\n",
    "from keras.utils import to_categorical\n",
    "from keras import Input, Model\n",
    "import json"
   ],
   "id": "4694291b03072bb1",
   "outputs": [],
   "execution_count": 2
  },
  {
   "metadata": {},
   "cell_type": "markdown",
   "source": "### Load Data",
   "id": "822d6a3c53240d47"
  },
  {
   "cell_type": "code",
   "id": "initial_id",
   "metadata": {
    "collapsed": true,
    "ExecuteTime": {
     "end_time": "2024-08-22T06:09:18.134301Z",
     "start_time": "2024-08-22T06:09:16.419791Z"
    }
   },
   "source": [
    "def load_data(path):\n",
    "    with h5py.File(path, 'r') as f:\n",
    "        x = f['image'][()]\n",
    "        y = f['label'][()]\n",
    "    return np.array(x), np.array(y)\n",
    "\n",
    "# Set this to none if you will manually input the needed variables\n",
    "dataJson = r\"C:\\Users\\Michael\\Desktop\\Model Benchmark\\data\\CatOrDog\\data.json\"\n",
    "\n",
    "# Image dimensions that the model was trained on\n",
    "# Manually Set This If data.json does not exist, otherwise can leave as None\n",
    "# input_dimensions = [96, 96, 1]\n",
    "input_dimensions = None\n",
    "\n",
    "# Class Names\n",
    "# Manually Set This If data.json does not exist, otherwise can leave as None\n",
    "# class_names = [\"Cat\", \"Dog\"]\n",
    "class_names = None\n",
    "\n",
    "# Number of classes\n",
    "# Manually Set This If data.json does not exist, otherwise can leave as None\n",
    "# num_classes = 2\n",
    "num_classes = None\n",
    "\n",
    "# Automatically read the input_dimensions, class_names and num_classes from a data.json if it exists\n",
    "if dataJson is not None:\n",
    "    with open(dataJson, \"r\") as f:\n",
    "        data = json.load(f)\n",
    "\n",
    "    input_dimensions = data['input_size']\n",
    "    class_names = data['class_names']\n",
    "    num_classes = data['num_classes']\n",
    "\n",
    "    f.close()\n",
    "\n",
    "# Load data\n",
    "x_train, y_train = load_data(r'C:\\Users\\Michael\\Desktop\\Model Benchmark\\data\\CatOrDog\\train.h5')\n",
    "x_val, y_val = load_data(r'C:\\Users\\Michael\\Desktop\\Model Benchmark\\data\\CatOrDog\\val.h5')\n",
    "\n",
    "# Normalize data\n",
    "x_train = x_train.reshape(-1, input_dimensions[0], input_dimensions[1], input_dimensions[2]) / 255.0\n",
    "x_val = x_val.reshape(-1, input_dimensions[0], input_dimensions[1], input_dimensions[2]) / 255.0\n",
    "\n",
    "y_train = to_categorical(y_train, num_classes=num_classes)\n",
    "y_val = to_categorical(y_val, num_classes=num_classes)"
   ],
   "outputs": [],
   "execution_count": 3
  },
  {
   "metadata": {},
   "cell_type": "markdown",
   "source": "Initialize Model",
   "id": "5e25b6d37df9af78"
  },
  {
   "metadata": {
    "ExecuteTime": {
     "end_time": "2024-08-22T06:09:47.057145Z",
     "start_time": "2024-08-22T06:09:45.059692Z"
    }
   },
   "cell_type": "code",
   "source": [
    "# Data augmentation\n",
    "datagen = ImageDataGenerator(\n",
    "    rotation_range=20,\n",
    "    width_shift_range=0.2,\n",
    "    height_shift_range=0.2,\n",
    "    shear_range=0.2,\n",
    "    zoom_range=0.2,\n",
    "    horizontal_flip=True,\n",
    "    fill_mode='nearest'\n",
    ")\n",
    "\n",
    "\n",
    "inp = Input(shape=(96, 96, 1))\n",
    "\n",
    "k = 3\n",
    "s = 1\n",
    "# inpShape = x.shape\n",
    "x = Conv2D(128, k, s, activation='relu', padding=\"valid\")(inp)\n",
    "# print(\"Valid Padding:\")\n",
    "# print(x.shape)\n",
    "# print(compute_output_shape(inpShape, k, s))\n",
    "\n",
    "x = MaxPooling2D(pool_size=(2, 2), strides=(2, 2))(x)\n",
    "\n",
    "#test\n",
    "\n",
    "# Block 1\n",
    "k = 3\n",
    "s = 1\n",
    "# inpShape = x.shape\n",
    "x = Conv2D(256, k, s, activation='relu', padding=\"valid\")(x)\n",
    "# print(\"Valid Padding:\")\n",
    "# print(x.shape)\n",
    "# print(compute_output_shape(inpShape, k, s))\n",
    "\n",
    "x = MaxPooling2D(pool_size=(2, 2), strides=(2, 2))(x)\n",
    "\n",
    "# Block 1\n",
    "k = 7\n",
    "s = 1\n",
    "# # inpShape = x.shape\n",
    "x = Conv2D(512, k, s, activation='relu', padding=\"valid\")(x)\n",
    "\n",
    "\n",
    "x = Flatten()(x)\n",
    "\n",
    "x = Dense(512, activation='relu')(x)\n",
    "x = Dropout(0.3)(x)\n",
    "out = Dense(2, activation='softmax')(x)\n",
    "\n",
    "model = Model(inputs=inp, outputs=out, name=\"cat_dog_model_standard\")\n",
    "print(model.summary())"
   ],
   "id": "5bc176205ae61619",
   "outputs": [
    {
     "name": "stdout",
     "output_type": "stream",
     "text": [
      "Model: \"cat_dog_model_standard\"\n",
      "_________________________________________________________________\n",
      " Layer (type)                Output Shape              Param #   \n",
      "=================================================================\n",
      " input_2 (InputLayer)        [(None, 96, 96, 1)]       0         \n",
      "                                                                 \n",
      " conv2d_3 (Conv2D)           (None, 96, 96, 128)       1280      \n",
      "                                                                 \n",
      " max_pooling2d_2 (MaxPooling  (None, 48, 48, 128)      0         \n",
      " 2D)                                                             \n",
      "                                                                 \n",
      " conv2d_4 (Conv2D)           (None, 48, 48, 256)       295168    \n",
      "                                                                 \n",
      " max_pooling2d_3 (MaxPooling  (None, 24, 24, 256)      0         \n",
      " 2D)                                                             \n",
      "                                                                 \n",
      " conv2d_5 (Conv2D)           (None, 24, 24, 512)       6423040   \n",
      "                                                                 \n",
      " flatten_1 (Flatten)         (None, 294912)            0         \n",
      "                                                                 \n",
      " dense_2 (Dense)             (None, 512)               150995456 \n",
      "                                                                 \n",
      " dropout_1 (Dropout)         (None, 512)               0         \n",
      "                                                                 \n",
      " dense_3 (Dense)             (None, 2)                 1026      \n",
      "                                                                 \n",
      "=================================================================\n",
      "Total params: 157,715,970\n",
      "Trainable params: 157,715,970\n",
      "Non-trainable params: 0\n",
      "_________________________________________________________________\n",
      "None\n"
     ]
    }
   ],
   "execution_count": 5
  },
  {
   "metadata": {},
   "cell_type": "markdown",
   "source": "## Train Model",
   "id": "588d8b30bbc14dea"
  },
  {
   "metadata": {},
   "cell_type": "code",
   "outputs": [],
   "execution_count": null,
   "source": [
    "model.compile(optimizer='adam', loss='categorical_crossentropy', metrics=['accuracy'])\n",
    "\n",
    "# Callbacks\n",
    "checkpoint = ModelCheckpoint('best_standard_model.h5', monitor='val_loss', save_best_only=True)\n",
    "early_stopping = EarlyStopping(monitor='val_loss', patience=10)\n",
    "\n",
    "# Fit model\n",
    "history = model.fit(\n",
    "    datagen.flow(x_train, y_train, batch_size=32),\n",
    "    validation_data=(x_val, y_val),\n",
    "    epochs=50,\n",
    "    callbacks=[checkpoint, early_stopping]\n",
    ")\n",
    "\n",
    "# Save the whole model at the end\n",
    "# model.save('standardModel2.h5')"
   ],
   "id": "9027463b75c532d6"
  }
 ],
 "metadata": {
  "kernelspec": {
   "display_name": "Python 3",
   "language": "python",
   "name": "python3"
  },
  "language_info": {
   "codemirror_mode": {
    "name": "ipython",
    "version": 2
   },
   "file_extension": ".py",
   "mimetype": "text/x-python",
   "name": "python",
   "nbconvert_exporter": "python",
   "pygments_lexer": "ipython2",
   "version": "2.7.6"
  }
 },
 "nbformat": 4,
 "nbformat_minor": 5
}
